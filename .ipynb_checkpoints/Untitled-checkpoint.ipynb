{
 "cells": [
  {
   "cell_type": "markdown",
   "id": "7e43e9a6",
   "metadata": {},
   "source": [
    "# Problem 1\n",
    "\n",
    "## Given two strings (string_a and string_b), let's check whether or not they are anagrams of each other given the following criteria:\n",
    "\n",
    "Two strings are only anagrams of each other if all conditions below are met:\n",
    "- They must be exactly the same length\n",
    "- They must use exactly the same characters (no more, no less)"
   ]
  },
  {
   "cell_type": "code",
   "execution_count": null,
   "id": "3d1b19c9",
   "metadata": {},
   "outputs": [],
   "source": [
    "def is_anagram(str_a, str_b):\n",
    "    return sorted(str_a) == sorted(str_b)"
   ]
  },
  {
   "cell_type": "code",
   "execution_count": null,
   "id": "239d8de4",
   "metadata": {},
   "outputs": [],
   "source": [
    "is_anagram(\"cars\", \"scar\")"
   ]
  }
 ],
 "metadata": {
  "kernelspec": {
   "display_name": "Python 3",
   "language": "python",
   "name": "python3"
  }
 },
 "nbformat": 4,
 "nbformat_minor": 5
}

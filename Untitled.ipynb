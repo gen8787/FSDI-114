{
 "cells": [
  {
   "cell_type": "markdown",
   "id": "7e43e9a6",
   "metadata": {},
   "source": [
    "# Problem 1\n",
    "\n",
    "## Given two strings (string_a and string_b), let's check whether or not they are anagrams of each other given the following criteria:\n",
    "\n",
    "Two strings are only anagrams of each other if all conditions below are met:\n",
    "- They must be exactly the same length\n",
    "- They must use exactly the same characters (no more, no less)"
   ]
  },
  {
   "cell_type": "code",
   "execution_count": null,
   "id": "f3806365",
   "metadata": {},
   "outputs": [],
   "source": [
    "def is_anagram(str_a, str_b):\n",
    "    if len(str_a) != len(str_b):\n",
    "        return Flase\n",
    "        \n",
    "    char_times_a = dict()\n",
    "    char_times_b = dict()\n",
    "    \n",
    "    for i in range(len(str_a)):"
   ]
  },
  {
   "cell_type": "code",
   "execution_count": null,
   "id": "f4e3e614",
   "metadata": {},
   "outputs": [],
   "source": [
    "is_anagram(\"cars\", \"scar\")"
   ]
  }
 ],
 "metadata": {
  "kernelspec": {
   "display_name": "Python 3",
   "language": "python",
   "name": "python3"
  }
 },
 "nbformat": 4,
 "nbformat_minor": 5
}
